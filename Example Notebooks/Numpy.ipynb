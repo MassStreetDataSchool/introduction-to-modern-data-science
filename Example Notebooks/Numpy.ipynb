{
 "cells": [
  {
   "cell_type": "code",
   "execution_count": null,
   "metadata": {},
   "outputs": [],
   "source": [
    "import numpy as np\n",
    "\n",
    "from numpy import *\n",
    "\n",
    "np.random.seed(1234)"
   ]
  },
  {
   "cell_type": "code",
   "execution_count": null,
   "metadata": {},
   "outputs": [],
   "source": [
    "def relu(input):\n",
    "    output = max(0, input)\n",
    "\n",
    "    return(output)"
   ]
  },
  {
   "cell_type": "code",
   "execution_count": null,
   "metadata": {},
   "outputs": [],
   "source": [
    "def sigmoid(input):\n",
    "    output = 1 / (1 + np.exp(-input))\n",
    "    return output"
   ]
  },
  {
   "cell_type": "code",
   "execution_count": null,
   "metadata": {},
   "outputs": [],
   "source": [
    "input_data = [np.array([0, 3]), np.array([1, 2]), np.array([-1, -2]), np.array([4, 0])]\n",
    "\n",
    "weights = {'node_0_0': np.array([1, 1]),\n",
    "           'node_0_1': np.array([-1, 1]),\n",
    "           'node_1_0': np.array([1, 1]),\n",
    "           'node_1_1': np.array([2, 2]),\n",
    "           'output': np.array([2, 1])}"
   ]
  },
  {
   "cell_type": "code",
   "execution_count": null,
   "metadata": {},
   "outputs": [],
   "source": [
    "def predict_with_network(input_data, weights):\n",
    "\n",
    "    node_0_0_input = (input_data * weights['node_0_0']).sum()\n",
    "    node_0_0_output = relu(node_0_0_input)\n",
    "\n",
    "    node_0_1_input = (input_data * weights['node_0_1']).sum()\n",
    "    node_0_1_output = relu(node_0_1_input)\n",
    "\n",
    "    hidden_0_outputs = np.array([node_0_0_output, node_0_1_output])\n",
    "\n",
    "    node_1_0_input = (hidden_0_outputs * weights['node_1_0']).sum()\n",
    "    node_1_0_output = relu(node_1_0_input)\n",
    "\n",
    "    node_1_1_input = (hidden_0_outputs * weights['node_1_1']).sum()\n",
    "    node_1_1_output = relu(node_1_1_input)\n",
    "\n",
    "    hidden_1_outputs = np.array([node_1_0_output, node_1_1_output])\n",
    "\n",
    "    model_output = (hidden_1_outputs * weights['output']).sum()\n",
    "    \n",
    "    return(model_output)"
   ]
  },
  {
   "cell_type": "code",
   "execution_count": null,
   "metadata": {},
   "outputs": [],
   "source": [
    "output = predict_with_network(input_data, weights)\n",
    "print(output)"
   ]
  },
  {
   "cell_type": "code",
   "execution_count": null,
   "metadata": {},
   "outputs": [],
   "source": [
    "target_actual = 3\n",
    "\n",
    "model_output = predict_with_network(input_data, weights)\n",
    "error = model_output - target_actual\n",
    "\n",
    "print(error)"
   ]
  },
  {
   "cell_type": "code",
   "execution_count": null,
   "metadata": {},
   "outputs": [],
   "source": [
    "weights = {'node_0_0': np.array([1, .5]),\n",
    "           'node_0_1': np.array([-1, 1]),\n",
    "           'node_1_0': np.array([1, .5]),\n",
    "           'node_1_1': np.array([1, 2]),\n",
    "           'output': np.array([1, 0.5])}\n",
    "\n",
    "output = predict_with_network(input_data, weights)\n",
    "print(output)\n",
    "\n",
    "target_actual = 3\n",
    "\n",
    "model_output = predict_with_network(input_data, weights)\n",
    "error = model_output - target_actual\n",
    "\n",
    "print(error)"
   ]
  },
  {
   "cell_type": "code",
   "execution_count": null,
   "metadata": {},
   "outputs": [],
   "source": [
    "weights = {'node_0_0': np.array([.95, .4]),\n",
    "           'node_0_1': np.array([-1, 1]),\n",
    "           'node_1_0': np.array([1, .5]),\n",
    "           'node_1_1': np.array([1, 2]),\n",
    "           'output': np.array([0.1, 0.5])}\n",
    "\n",
    "output = predict_with_network(input_data, weights)\n",
    "print(output)\n",
    "\n",
    "target_actual = 3\n",
    "\n",
    "model_output = predict_with_network(input_data, weights)\n",
    "error = model_output - target_actual\n",
    "\n",
    "print(error)"
   ]
  },
  {
   "cell_type": "markdown",
   "metadata": {},
   "source": [
    "---"
   ]
  },
  {
   "cell_type": "code",
   "execution_count": null,
   "metadata": {},
   "outputs": [],
   "source": [
    "x = np.array([\n",
    "    [1,0,0],\n",
    "    [1,1,0],\n",
    "    [1,1,1]\n",
    "])\n",
    "\n",
    "y = np.array([\n",
    "    [1],\n",
    "    [2],\n",
    "    [3]\n",
    "])\n",
    "\n",
    "wx = [0.2]\n",
    "wrec = [1.5]\n",
    "\n",
    "number_or_epoch = 40000\n",
    "number_of_training_data = 3\n",
    "learning_rate_x = 0.01\n",
    "learning_rate_rec = 0.0005\n",
    "\n",
    "states = np.zeros((3,4))\n",
    "grad_over_time = np.zeros((3,4))"
   ]
  },
  {
   "cell_type": "code",
   "execution_count": null,
   "metadata": {},
   "outputs": [],
   "source": [
    "for iter in range(number_or_epoch):\n",
    "\n",
    "    layer_1 = x[:,0] * wx + states[:,0] * wrec\n",
    "    states[:,1] = layer_1\n",
    "\n",
    "    layer_2 = x[:,1] * wx + states[:,1] * wrec\n",
    "    states[:,2] = layer_2\n",
    "\n",
    "    layer_3 = x[:,2] * wx + states[:,2] * wrec\n",
    "    states[:,3] = layer_3\n",
    "\n",
    "    grad_out = (states[:,3] - np.squeeze(y)) * 2 / number_of_training_data\n",
    "    grad_over_time[:,3] = grad_out\n",
    "    grad_over_time[:,2] = grad_over_time[:,3] * wrec\n",
    "    grad_over_time[:,1] = grad_over_time[:,2] * wrec\n",
    "\n",
    "    grad_over_time[:,0] = grad_over_time[:,1] * wrec\n",
    "\n",
    "\n",
    "    grad_wx = np.sum(grad_over_time[:,3] * x[:,2] + \n",
    "                     grad_over_time[:,2] * x[:,1]  + \n",
    "                     grad_over_time[:,1] * x[:,0])\n",
    "\n",
    "    grad_rec = np.sum(grad_over_time[:,3] * states[:,2] + \n",
    "                      grad_over_time[:,2] * states[:,1]  +\n",
    "                      grad_over_time[:,1] * states[:,0])\n",
    "    \n",
    "    wx = wx - learning_rate_x * grad_wx\n",
    "    wrec = wrec - learning_rate_rec * grad_rec\n",
    "\n",
    "    if iter%5000 == 0:\n",
    "        print('Current Epoch: ',iter, '  current prediction :' ,layer_3)"
   ]
  },
  {
   "cell_type": "code",
   "execution_count": null,
   "metadata": {},
   "outputs": [],
   "source": [
    "layer_1 = x[:,0] * wx + states[:,0] * wrec\n",
    "states[:,1] = layer_1\n",
    "\n",
    "layer_2 = x[:,1] * wx + states[:,1] * wrec\n",
    "states[:,2] = layer_2\n",
    "\n",
    "layer_3 = x[:,2] * wx + states[:,2] * wrec\n",
    "states[:,3] = layer_3\n",
    "\n",
    "print('Ground Truth: ',layer_3)\n",
    "print('Rounded Truth: ',np.round(layer_3))\n",
    "print(\"Final weight X : \",wx)\n",
    "print(\"Final weight Rec : \",wrec)"
   ]
  },
  {
   "cell_type": "markdown",
   "metadata": {},
   "source": [
    "---"
   ]
  },
  {
   "cell_type": "code",
   "execution_count": null,
   "metadata": {},
   "outputs": [],
   "source": [
    "def step_gradient(b_current, w_current, points, learning_rate):\n",
    "    b_gradient = 0\n",
    "    w_gradient = 0\n",
    "    N = float(len(points))\n",
    "    for i in range(0, len(points)):\n",
    "        x = points[i, 0]\n",
    "        y = points[i, 1]\n",
    "        b_gradient += -(2/N) * (y - ((w_current * x) + b_current))\n",
    "        w_gradient += -(2/N) * x * (y - ((w_current * x) + b_current))\n",
    "    new_b = b_current - (learning_rate * b_gradient)\n",
    "    new_w = w_current - (learning_rate * w_gradient)\n",
    "    return [new_b, new_w]\n",
    "\n",
    "def gradient_descent_runner(points, starting_b, starting_w, learning_rate, epochs):\n",
    "    b = starting_b\n",
    "    w = starting_w\n",
    "    for i in range(epochs):\n",
    "        b, w = step_gradient(b, w, array(points), learning_rate)\n",
    "    return [b, w]\n",
    "\n",
    "def run():\n",
    "    points = genfromtxt('data.csv', delimiter=',')\n",
    "    learning_rate = 0.0001\n",
    "    initial_b = 0\n",
    "    initial_w = 0.1\n",
    "    epochs = 10000\n",
    "    [b, w] = gradient_descent_runner(points, initial_b, initial_w, learning_rate, epochs)\n",
    "    print(b)\n",
    "    print(w)\n",
    "    \n",
    "if __name__ == '__main__':\n",
    "    run()"
   ]
  }
 ],
 "metadata": {
  "kernelspec": {
   "display_name": "Python 3",
   "language": "python",
   "name": "python3"
  },
  "language_info": {
   "codemirror_mode": {
    "name": "ipython",
    "version": 3
   },
   "file_extension": ".py",
   "mimetype": "text/x-python",
   "name": "python",
   "nbconvert_exporter": "python",
   "pygments_lexer": "ipython3",
   "version": "3.7.3"
  }
 },
 "nbformat": 4,
 "nbformat_minor": 4
}
